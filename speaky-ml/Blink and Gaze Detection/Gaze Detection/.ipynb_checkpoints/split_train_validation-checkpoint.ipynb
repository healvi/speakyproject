{
 "cells": [
  {
   "cell_type": "code",
   "execution_count": 2,
   "metadata": {
    "colab": {},
    "colab_type": "code",
    "id": "L8e-Mu6-Cda3",
    "outputId": "57cc4f1e-51df-4911-924b-bff6482a2a5a"
   },
   "outputs": [
    {
     "name": "stdout",
     "output_type": "stream",
     "text": [
      "11729\n",
      "11729\n"
     ]
    }
   ],
   "source": [
    "import os\n",
    "import random\n",
    "import pandas as pd\n",
    "import numpy as np\n",
    "from shutil import copyfile\n",
    "\n",
    "data_dir=r'C:\\Users\\Hp\\FP\\Blink Detection\\Dataset Blink'\n",
    "print(len(os.listdir(data_dir+'/closed/')))\n",
    "print(len(os.listdir(data_dir+'/opened/')))"
   ]
  },
  {
   "cell_type": "code",
   "execution_count": 5,
   "metadata": {
    "colab": {},
    "colab_type": "code",
    "id": "d6v18JXACda7"
   },
   "outputs": [
    {
     "name": "stdout",
     "output_type": "stream",
     "text": [
      "['Closed', 'Opened']\n"
     ]
    }
   ],
   "source": [
    "print(os.listdir(data_dir))"
   ]
  },
  {
   "cell_type": "code",
   "execution_count": 6,
   "metadata": {
    "colab": {},
    "colab_type": "code",
    "id": "gd2f33ebCda9"
   },
   "outputs": [],
   "source": [
    "classes=os.listdir(data_dir)"
   ]
  },
  {
   "cell_type": "code",
   "execution_count": 8,
   "metadata": {
    "colab": {},
    "colab_type": "code",
    "id": "Ypjpe-ipCdbC",
    "outputId": "27c570f8-43ab-4c48-9636-45031f482d3e"
   },
   "outputs": [
    {
     "data": {
      "text/plain": [
       "['Closed', 'Opened']"
      ]
     },
     "execution_count": 8,
     "metadata": {},
     "output_type": "execute_result"
    }
   ],
   "source": [
    "classes"
   ]
  },
  {
   "cell_type": "code",
   "execution_count": 11,
   "metadata": {
    "colab": {},
    "colab_type": "code",
    "id": "p7T0sa1vCdbE",
    "outputId": "04ed8510-076d-45dc-bea6-70928f0b8101"
   },
   "outputs": [
    {
     "name": "stdout",
     "output_type": "stream",
     "text": [
      "['/dataset blink/Closed', '/dataset blink/Opened']\n"
     ]
    }
   ],
   "source": [
    "source_path=[f'/dataset blink/{a}' for a in classes]\n",
    "print(source_path)"
   ]
  },
  {
   "cell_type": "code",
   "execution_count": 12,
   "metadata": {
    "colab": {},
    "colab_type": "code",
    "id": "WcyBla2YCdbG",
    "outputId": "313cb76b-2f65-4fee-ba5c-acd7ac60ca86"
   },
   "outputs": [
    {
     "data": {
      "text/plain": [
       "['Closed_dir', 'Opened_dir']"
      ]
     },
     "execution_count": 12,
     "metadata": {},
     "output_type": "execute_result"
    }
   ],
   "source": [
    "classes_dir=[f'{a}_dir' for a in classes]\n",
    "classes_dir"
   ]
  },
  {
   "cell_type": "code",
   "execution_count": 13,
   "metadata": {
    "colab": {},
    "colab_type": "code",
    "id": "3PVblz-aCdbI",
    "outputId": "36df2e9c-0e8d-4500-e270-284d7742f6cf"
   },
   "outputs": [
    {
     "ename": "FileNotFoundError",
     "evalue": "[WinError 3] The system cannot find the path specified: '/dataset blink/Closed'",
     "output_type": "error",
     "traceback": [
      "\u001b[1;31m---------------------------------------------------------------------------\u001b[0m",
      "\u001b[1;31mFileNotFoundError\u001b[0m                         Traceback (most recent call last)",
      "\u001b[1;32m<ipython-input-13-4cea723a7333>\u001b[0m in \u001b[0;36m<module>\u001b[1;34m\u001b[0m\n\u001b[0;32m      1\u001b[0m \u001b[1;32mfor\u001b[0m \u001b[0mcl_dir\u001b[0m\u001b[1;33m,\u001b[0m\u001b[0mcl_path\u001b[0m \u001b[1;32min\u001b[0m \u001b[0mzip\u001b[0m\u001b[1;33m(\u001b[0m\u001b[0mclasses_dir\u001b[0m\u001b[1;33m,\u001b[0m\u001b[0msource_path\u001b[0m\u001b[1;33m)\u001b[0m\u001b[1;33m:\u001b[0m\u001b[1;33m\u001b[0m\u001b[1;33m\u001b[0m\u001b[0m\n\u001b[1;32m----> 2\u001b[1;33m     \u001b[0mprint\u001b[0m\u001b[1;33m(\u001b[0m\u001b[0mcl_dir\u001b[0m\u001b[1;33m,\u001b[0m\u001b[1;34m': '\u001b[0m\u001b[1;33m,\u001b[0m\u001b[0mlen\u001b[0m\u001b[1;33m(\u001b[0m\u001b[0mos\u001b[0m\u001b[1;33m.\u001b[0m\u001b[0mlistdir\u001b[0m\u001b[1;33m(\u001b[0m\u001b[0mcl_path\u001b[0m\u001b[1;33m)\u001b[0m\u001b[1;33m)\u001b[0m\u001b[1;33m)\u001b[0m\u001b[1;33m\u001b[0m\u001b[1;33m\u001b[0m\u001b[0m\n\u001b[0m",
      "\u001b[1;31mFileNotFoundError\u001b[0m: [WinError 3] The system cannot find the path specified: '/dataset blink/Closed'"
     ]
    }
   ],
   "source": [
    "for cl_dir,cl_path in zip(classes_dir,source_path):\n",
    "    print(cl_dir,': ',len(os.listdir(cl_path)))"
   ]
  },
  {
   "cell_type": "code",
   "execution_count": 14,
   "metadata": {
    "colab": {},
    "colab_type": "code",
    "id": "_gqlTTMsCdbL",
    "outputId": "8a2b05f4-ff0d-4997-ef10-0228cc339eb3"
   },
   "outputs": [
    {
     "name": "stderr",
     "output_type": "stream",
     "text": [
      "'pwd' is not recognized as an internal or external command,\n",
      "operable program or batch file.\n"
     ]
    }
   ],
   "source": [
    "!pwd"
   ]
  },
  {
   "cell_type": "code",
   "execution_count": 16,
   "metadata": {
    "colab": {},
    "colab_type": "code",
    "id": "fL-GaRqYCdbN"
   },
   "outputs": [],
   "source": [
    "try:\n",
    "    os.mkdir('Dataset Blink/training')\n",
    "    os.mkdir('Dataset Blink/validation')\n",
    "    os.mkdir('Dataset Blink/testing')\n",
    "except OSError:\n",
    "    pass"
   ]
  },
  {
   "cell_type": "code",
   "execution_count": 17,
   "metadata": {
    "colab": {},
    "colab_type": "code",
    "id": "ikd6CBwyCdbP",
    "outputId": "3930fcde-8e65-4dae-e33b-74206651b6a2"
   },
   "outputs": [
    {
     "name": "stdout",
     "output_type": "stream",
     "text": [
      "\n",
      " ['Dataset Blink/training/Closed', 'Dataset Blink/training/Opened']\n",
      "\n",
      " ['Dataset Blink/validation/Closed', 'Dataset Blink/validation/Opened']\n",
      "\n",
      " ['Dataset Blink/testing/Closed', 'Dataset Blink/testing/Opened']\n"
     ]
    }
   ],
   "source": [
    "TRAINING_PATH='Dataset Blink/training'\n",
    "VALIDATION_PATH='Dataset Blink/validation'\n",
    "training_dir_path=[f'Dataset Blink/training/{a}' for a in classes]\n",
    "print('\\n',training_dir_path)\n",
    "validation_dir_path=[f'Dataset Blink/validation/{a}' for a in classes]\n",
    "print('\\n',validation_dir_path)\n",
    "testing_dir_path=[f'Dataset Blink/testing/{a}' for a in classes]\n",
    "print('\\n',testing_dir_path)"
   ]
  },
  {
   "cell_type": "code",
   "execution_count": 18,
   "metadata": {
    "colab": {},
    "colab_type": "code",
    "id": "nHheaHCYCdbR"
   },
   "outputs": [],
   "source": [
    "for train_dir_path in training_dir_path:\n",
    "    try:\n",
    "        os.mkdir(train_dir_path)\n",
    "    except OSError:\n",
    "        pass"
   ]
  },
  {
   "cell_type": "code",
   "execution_count": 19,
   "metadata": {
    "colab": {},
    "colab_type": "code",
    "id": "FzLp2JmYCdbT"
   },
   "outputs": [],
   "source": [
    "for val_dir_path in validation_dir_path:\n",
    "    try:\n",
    "        os.mkdir(val_dir_path)\n",
    "    except OSError:\n",
    "        pass"
   ]
  },
  {
   "cell_type": "code",
   "execution_count": 20,
   "metadata": {
    "colab": {},
    "colab_type": "code",
    "id": "jxJ7IvbOCdbV"
   },
   "outputs": [],
   "source": [
    "for test_dir_path in testing_dir_path:\n",
    "    try:\n",
    "        os.mkdir(test_dir_path)\n",
    "    except OSError:\n",
    "        pass"
   ]
  },
  {
   "cell_type": "code",
   "execution_count": 21,
   "metadata": {
    "colab": {},
    "colab_type": "code",
    "id": "x7T2T61MCdbX"
   },
   "outputs": [],
   "source": [
    "def split_data(SOURCE, TRAINING, VALIDATION, TESTING, SPLIT_SIZE):\n",
    "    files = []\n",
    "    print('Split Data')\n",
    "    for filename in os.listdir(SOURCE):\n",
    "        file = SOURCE +'/'+ filename\n",
    "        if os.path.getsize(file) > 0:\n",
    "            files.append(filename)\n",
    "        else:\n",
    "            print(filename + \" is zero length, so ignoring.\")\n",
    "\n",
    "    training_length = int( len(files)* SPLIT_SIZE)\n",
    "    validation_length = int(len(files) * 0.10)\n",
    "    testing_length = int(len(files) - training_length - validation_length)\n",
    "    \n",
    "    print('SOURCE: ',SOURCE, '\\n TRAINING', TRAINING, '\\n VALIDATION',VALIDATION, '\\n ',len(files))\n",
    "    print('training_length:',training_length)\n",
    "    print('validation_length:',validation_length)\n",
    "    print('testing_length:',testing_length)\n",
    "    \n",
    "    shuffled_set = random.sample(files, len(files))\n",
    "    training_set = shuffled_set[0:training_length]\n",
    "    validation_set = shuffled_set[training_length:(training_length+validation_length)]\n",
    "    testing_set=shuffled_set[:testing_length]\n",
    "\n",
    "    print(len(training_set))\n",
    "    print(len(validation_set))\n",
    "    print(len(testing_set))\n",
    "    \n",
    "    for filename in training_set:\n",
    "        this_file = SOURCE +'/'+ filename\n",
    "        destination = TRAINING +'/'+ filename\n",
    "        copyfile(this_file, destination)\n",
    "    \n",
    "\n",
    "    for filename in validation_set:\n",
    "        this_file = SOURCE +'/'+ filename\n",
    "        destination = VALIDATION+'/' + filename\n",
    "        copyfile(this_file, destination)\n",
    "        \n",
    "    for filename in validation_set:\n",
    "        this_file = SOURCE +'/'+ filename\n",
    "        destination = TESTING+'/' + filename\n",
    "        copyfile(this_file, destination)"
   ]
  },
  {
   "cell_type": "code",
   "execution_count": 22,
   "metadata": {
    "colab": {},
    "colab_type": "code",
    "id": "vu8QdIFICdbZ",
    "outputId": "0bc09dbf-3032-4884-b472-6924850d5965"
   },
   "outputs": [
    {
     "name": "stdout",
     "output_type": "stream",
     "text": [
      "Split Data\n"
     ]
    },
    {
     "ename": "FileNotFoundError",
     "evalue": "[WinError 3] The system cannot find the path specified: '/dataset blink/Closed'",
     "output_type": "error",
     "traceback": [
      "\u001b[1;31m---------------------------------------------------------------------------\u001b[0m",
      "\u001b[1;31mFileNotFoundError\u001b[0m                         Traceback (most recent call last)",
      "\u001b[1;32m<ipython-input-22-0fc75889e55f>\u001b[0m in \u001b[0;36m<module>\u001b[1;34m\u001b[0m\n\u001b[0;32m      3\u001b[0m                                 training_dir_path,validation_dir_path, testing_dir_path):\n\u001b[0;32m      4\u001b[0m     \u001b[1;31m#print('source: ',source,'\\n', train_dir_path,'\\n',val_dir_path,'\\n')\u001b[0m\u001b[1;33m\u001b[0m\u001b[1;33m\u001b[0m\u001b[1;33m\u001b[0m\u001b[0m\n\u001b[1;32m----> 5\u001b[1;33m     \u001b[0msplit_data\u001b[0m\u001b[1;33m(\u001b[0m\u001b[0msource\u001b[0m\u001b[1;33m,\u001b[0m\u001b[0mtrain_dir_path\u001b[0m\u001b[1;33m,\u001b[0m\u001b[0mval_dir_path\u001b[0m\u001b[1;33m,\u001b[0m\u001b[0mtest_dir_path\u001b[0m\u001b[1;33m,\u001b[0m \u001b[0msplit_size\u001b[0m\u001b[1;33m)\u001b[0m\u001b[1;33m\u001b[0m\u001b[1;33m\u001b[0m\u001b[0m\n\u001b[0m\u001b[0;32m      6\u001b[0m     \u001b[0mprint\u001b[0m\u001b[1;33m(\u001b[0m\u001b[1;34m'Splitting \\n'\u001b[0m\u001b[1;33m)\u001b[0m\u001b[1;33m\u001b[0m\u001b[1;33m\u001b[0m\u001b[0m\n",
      "\u001b[1;32m<ipython-input-21-b769ca3d10e7>\u001b[0m in \u001b[0;36msplit_data\u001b[1;34m(SOURCE, TRAINING, VALIDATION, TESTING, SPLIT_SIZE)\u001b[0m\n\u001b[0;32m      2\u001b[0m     \u001b[0mfiles\u001b[0m \u001b[1;33m=\u001b[0m \u001b[1;33m[\u001b[0m\u001b[1;33m]\u001b[0m\u001b[1;33m\u001b[0m\u001b[1;33m\u001b[0m\u001b[0m\n\u001b[0;32m      3\u001b[0m     \u001b[0mprint\u001b[0m\u001b[1;33m(\u001b[0m\u001b[1;34m'Split Data'\u001b[0m\u001b[1;33m)\u001b[0m\u001b[1;33m\u001b[0m\u001b[1;33m\u001b[0m\u001b[0m\n\u001b[1;32m----> 4\u001b[1;33m     \u001b[1;32mfor\u001b[0m \u001b[0mfilename\u001b[0m \u001b[1;32min\u001b[0m \u001b[0mos\u001b[0m\u001b[1;33m.\u001b[0m\u001b[0mlistdir\u001b[0m\u001b[1;33m(\u001b[0m\u001b[0mSOURCE\u001b[0m\u001b[1;33m)\u001b[0m\u001b[1;33m:\u001b[0m\u001b[1;33m\u001b[0m\u001b[1;33m\u001b[0m\u001b[0m\n\u001b[0m\u001b[0;32m      5\u001b[0m         \u001b[0mfile\u001b[0m \u001b[1;33m=\u001b[0m \u001b[0mSOURCE\u001b[0m \u001b[1;33m+\u001b[0m\u001b[1;34m'/'\u001b[0m\u001b[1;33m+\u001b[0m \u001b[0mfilename\u001b[0m\u001b[1;33m\u001b[0m\u001b[1;33m\u001b[0m\u001b[0m\n\u001b[0;32m      6\u001b[0m         \u001b[1;32mif\u001b[0m \u001b[0mos\u001b[0m\u001b[1;33m.\u001b[0m\u001b[0mpath\u001b[0m\u001b[1;33m.\u001b[0m\u001b[0mgetsize\u001b[0m\u001b[1;33m(\u001b[0m\u001b[0mfile\u001b[0m\u001b[1;33m)\u001b[0m \u001b[1;33m>\u001b[0m \u001b[1;36m0\u001b[0m\u001b[1;33m:\u001b[0m\u001b[1;33m\u001b[0m\u001b[1;33m\u001b[0m\u001b[0m\n",
      "\u001b[1;31mFileNotFoundError\u001b[0m: [WinError 3] The system cannot find the path specified: '/dataset blink/Closed'"
     ]
    }
   ],
   "source": [
    "split_size = .80\n",
    "for source,train_dir_path,val_dir_path,test_dir_path in zip(source_path,\\\n",
    "                                training_dir_path,validation_dir_path, testing_dir_path):\n",
    "    #print('source: ',source,'\\n', train_dir_path,'\\n',val_dir_path,'\\n')\n",
    "    split_data(source,train_dir_path,val_dir_path,test_dir_path, split_size)\n",
    "    print('Splitting \\n')"
   ]
  },
  {
   "cell_type": "code",
   "execution_count": null,
   "metadata": {
    "colab": {},
    "colab_type": "code",
    "id": "BvMsWiZNCdbb"
   },
   "outputs": [],
   "source": [
    "from sklearn.model_selection import train_test_split"
   ]
  },
  {
   "cell_type": "code",
   "execution_count": null,
   "metadata": {
    "colab": {},
    "colab_type": "code",
    "id": "L2JPohpvCdbd"
   },
   "outputs": [],
   "source": [
    "X_train, X_test, y_train, y_test = train_test_split(X, y, test_size=0.33)"
   ]
  },
  {
   "cell_type": "code",
   "execution_count": null,
   "metadata": {
    "colab": {},
    "colab_type": "code",
    "id": "1_6Vf5x5Cdbf"
   },
   "outputs": [],
   "source": [
    "try:\n",
    "    os.mkdir('/content/gdrive/My Drive/Colab Notebooks/data/stilo')\n",
    "    os.mkdir('/content/gdrive/My Drive/Colab Notebooks/data/stilo/training')\n",
    "    os.mkdir('/content/gdrive/My Drive/Colab Notebooks/data/stilo/validation')\n",
    "    os.mkdir('/content/gdrive/My Drive/Colab Notebooks/data/stilo/testing')\n",
    "    \n",
    "    os.mkdir('/content/gdrive/My Drive/Colab Notebooks/data/stilo/training/skirt')\n",
    "    os.mkdir('/content/gdrive/My Drive/Colab Notebooks/data/stilo/training/jeans')\n",
    "    os.mkdir('/content/gdrive/My Drive/Colab Notebooks/data/stilo/training/dress')\n",
    "    \n",
    "    os.mkdir('/content/gdrive/My Drive/Colab Notebooks/data/stilo/validation/skirt')\n",
    "    os.mkdir('/content/gdrive/My Drive/Colab Notebooks/data/stilo/validation/jeans')\n",
    "    os.mkdir('/content/gdrive/My Drive/Colab Notebooks/data/stilo/validation/dress')\n",
    "    \n",
    "    os.mkdir('/content/gdrive/My Drive/Colab Notebooks/data/stilo/testing/skirt')\n",
    "    os.mkdir('/content/gdrive/My Drive/Colab Notebooks/data/stilo/testing/jeans')\n",
    "    os.mkdir('/content/gdrive/My Drive/Colab Notebooks/data/stilo/testing/dress')\n",
    "\n",
    "except OSError:\n",
    "    pass"
   ]
  }
 ],
 "metadata": {
  "colab": {
   "name": "split_train_validation.ipynb",
   "provenance": []
  },
  "kernelspec": {
   "display_name": "Python 3",
   "language": "python",
   "name": "python3"
  },
  "language_info": {
   "codemirror_mode": {
    "name": "ipython",
    "version": 3
   },
   "file_extension": ".py",
   "mimetype": "text/x-python",
   "name": "python",
   "nbconvert_exporter": "python",
   "pygments_lexer": "ipython3",
   "version": "3.8.5"
  }
 },
 "nbformat": 4,
 "nbformat_minor": 4
}

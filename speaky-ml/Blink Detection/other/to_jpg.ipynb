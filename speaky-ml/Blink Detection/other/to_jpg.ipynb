{
 "cells": [
  {
   "cell_type": "code",
   "execution_count": 2,
   "id": "5d008662-c592-410b-8eec-e0559fd701bb",
   "metadata": {},
   "outputs": [],
   "source": [
    "from pathlib import Path\n",
    "from PIL import Image\n",
    "\n",
    "inputPath = Path(\"Opened_r\")\n",
    "inputFiles = inputPath.glob(\"**/*.png\")\n",
    "outputPath = Path(\"Opened_jpg\")\n",
    "for f in inputFiles:\n",
    "    outputFile = outputPath / Path(f.stem + \".jpg\")\n",
    "    im = Image.open(f)\n",
    "    im.save(outputFile)"
   ]
  },
  {
   "cell_type": "code",
   "execution_count": null,
   "id": "107205c5-fe1d-4155-9837-868b83031d98",
   "metadata": {},
   "outputs": [],
   "source": []
  }
 ],
 "metadata": {
  "kernelspec": {
   "display_name": "Python 3",
   "language": "python",
   "name": "python3"
  },
  "language_info": {
   "codemirror_mode": {
    "name": "ipython",
    "version": 3
   },
   "file_extension": ".py",
   "mimetype": "text/x-python",
   "name": "python",
   "nbconvert_exporter": "python",
   "pygments_lexer": "ipython3",
   "version": "3.8.5"
  }
 },
 "nbformat": 4,
 "nbformat_minor": 5
}

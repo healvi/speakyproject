{
 "cells": [
  {
   "cell_type": "markdown",
   "metadata": {
    "colab_type": "text",
    "id": "v5bzJxIpGLM_"
   },
   "source": [
    "## Data organized at:\n",
    "* **`/home/ach/stylight/model_data/training/Coats_Jackets` ...**\n",
    "* **`/home/ach/stylight/model_data/validation/Coats_Jackets` ...**\n",
    "* **`/home/ach/stylight/model_data/testing/Coats_Jackets` ...**"
   ]
  },
  {
   "cell_type": "code",
   "execution_count": 1,
   "metadata": {
    "colab": {},
    "colab_type": "code",
    "id": "jZ_azzDfGLNA"
   },
   "outputs": [],
   "source": [
    "import os\n",
    "import random\n",
    "import pandas as pd\n",
    "import numpy as np\n",
    "from shutil import copyfile"
   ]
  },
  {
   "cell_type": "code",
   "execution_count": 4,
   "metadata": {
    "colab": {},
    "colab_type": "code",
    "id": "KHALtjyRGLND",
    "outputId": "a5805dee-2c83-4bdf-fba5-dc211714868f"
   },
   "outputs": [
    {
     "name": "stdout",
     "output_type": "stream",
     "text": [
      "['.ipynb_checkpoints', 'Closed', 'Opened', 'rename.ipynb', 'resize.ipynb', 'split_organize_training_validation_testing_data_folders.ipynb', 'to_jpg.ipynb']\n"
     ]
    },
    {
     "ename": "NameError",
     "evalue": "name 'closed' is not defined",
     "output_type": "error",
     "traceback": [
      "\u001b[1;31m---------------------------------------------------------------------------\u001b[0m",
      "\u001b[1;31mNameError\u001b[0m                                 Traceback (most recent call last)",
      "\u001b[1;32m<ipython-input-4-87139704e0bd>\u001b[0m in \u001b[0;36m<module>\u001b[1;34m\u001b[0m\n\u001b[0;32m      2\u001b[0m \u001b[0mcategories\u001b[0m\u001b[1;33m=\u001b[0m\u001b[0mos\u001b[0m\u001b[1;33m.\u001b[0m\u001b[0mlistdir\u001b[0m\u001b[1;33m(\u001b[0m\u001b[0mdata_dir\u001b[0m\u001b[1;33m)\u001b[0m\u001b[1;33m\u001b[0m\u001b[1;33m\u001b[0m\u001b[0m\n\u001b[0;32m      3\u001b[0m \u001b[0mprint\u001b[0m\u001b[1;33m(\u001b[0m\u001b[0mcategories\u001b[0m\u001b[1;33m)\u001b[0m\u001b[1;33m\u001b[0m\u001b[1;33m\u001b[0m\u001b[0m\n\u001b[1;32m----> 4\u001b[1;33m \u001b[0morigin_subfolders\u001b[0m\u001b[1;33m=\u001b[0m\u001b[1;33m[\u001b[0m\u001b[1;34mf'{data_dir}/{folder}'\u001b[0m \u001b[1;32mfor\u001b[0m \u001b[0mfolder\u001b[0m \u001b[1;32min\u001b[0m \u001b[0mos\u001b[0m\u001b[1;33m.\u001b[0m\u001b[0mlistdir\u001b[0m\u001b[1;33m(\u001b[0m\u001b[0mclosed\u001b[0m\u001b[1;33m)\u001b[0m\u001b[1;33m]\u001b[0m\u001b[1;33m\u001b[0m\u001b[1;33m\u001b[0m\u001b[0m\n\u001b[0m",
      "\u001b[1;31mNameError\u001b[0m: name 'closed' is not defined"
     ]
    }
   ],
   "source": [
    "data_dir=r'C:\\Users\\Hp\\FP\\Blink Detection\\Dataset Blink'\n",
    "categories=os.listdir(data_dir)\n",
    "print(categories)\n",
    "origin_subfolders=[f'{data_dir}/{folder}' for folder in os.listdir(closed)]"
   ]
  },
  {
   "cell_type": "code",
   "execution_count": null,
   "metadata": {
    "colab": {},
    "colab_type": "code",
    "id": "j6ijYUjOGLNG",
    "outputId": "edc09ba4-fdce-40ff-e03c-1894685b6e99"
   },
   "outputs": [
    {
     "name": "stdout",
     "output_type": "stream",
     "text": [
      "/home/ach/stylight/data/data_1/Coats_Jackets : 1406\n",
      "/home/ach/stylight/data/data_1/Blazers_Suits : 945\n",
      "/home/ach/stylight/data/data_1/Pants : 685\n",
      "/home/ach/stylight/data/data_1/Tops : 1826\n",
      "/home/ach/stylight/data/data_1/Skirts : 353\n",
      "/home/ach/stylight/data/data_1/Underware : 1013\n",
      "/home/ach/stylight/data/data_1/Shoes : 1432\n",
      "/home/ach/stylight/data/data_1/Dresses_Overalls : 713\n",
      "/home/ach/stylight/data/data_1/Accessories : 4332\n"
     ]
    }
   ],
   "source": [
    "for sub_dir in origin_subfolders:\n",
    "    print(sub_dir,':', len(os.listdir(sub_dir)))"
   ]
  },
  {
   "cell_type": "markdown",
   "metadata": {
    "colab_type": "text",
    "id": "Dx0PAmJvGLNI"
   },
   "source": [
    "### Define Destination Subfolders\n",
    "Have been previously created"
   ]
  },
  {
   "cell_type": "code",
   "execution_count": null,
   "metadata": {
    "colab": {},
    "colab_type": "code",
    "id": "OZU7fioEGLNJ",
    "outputId": "1f8b6195-e387-4bcc-b306-ea8ea7f97e44"
   },
   "outputs": [
    {
     "name": "stdout",
     "output_type": "stream",
     "text": [
      "['Coats_Jackets', 'Blazers_Suits', 'Pants', 'Tops', 'Skirts', 'Underware', 'Shoes', 'Dresses_Overalls', 'Accessories']\n",
      "['Coats_Jackets', 'Blazers_Suits', 'Pants', 'Tops', 'Skirts', 'Underware', 'Shoes', 'Dresses_Overalls', 'Accessories']\n",
      "['Coats_Jackets', 'Blazers_Suits', 'Pants', 'Tops', 'Skirts', 'Underware', 'Shoes', 'Dresses_Overalls', 'Accessories']\n"
     ]
    }
   ],
   "source": [
    "training_dir='/home/ach/stylight/model_data/training'\n",
    "print(os.listdir(training_dir))\n",
    "validation_dir='/home/ach/stylight/model_data/validation'\n",
    "print(os.listdir(validation_dir))\n",
    "testing_dir='/home/ach/stylight/model_data/testing'\n",
    "print(os.listdir(testing_dir))"
   ]
  },
  {
   "cell_type": "markdown",
   "metadata": {
    "colab_type": "text",
    "id": "8mVqTy6cGLNL"
   },
   "source": [
    "Obtain the **paths** of the **Destination Folders** for: `training`,`validation`,`testing`\n",
    "\n",
    "Store in **`training_subfolders`,`validation_subfolders`,`testing_subfolders`**"
   ]
  },
  {
   "cell_type": "code",
   "execution_count": null,
   "metadata": {
    "colab": {},
    "colab_type": "code",
    "id": "co-qbFJ7GLNL"
   },
   "outputs": [],
   "source": [
    "ori_subf= skirt\n",
    "training_length=310\n",
    "training_set_Sk = shuffled_set[0:training_length]\n",
    "print('training: ',len(training_set_Sk))\n",
    "validation_set_Sk = shuffled_set[311:346]\n",
    "print(len(validation_set))\n",
    "print('validation: ',len(validation_set_Sk))\n",
    "testing_set_Sk=shuffled_set[-8:]\n",
    "print('testing: ',len(testing_set_Sk))\n",
    "testing_set_Sk"
   ]
  },
  {
   "cell_type": "code",
   "execution_count": null,
   "metadata": {
    "colab": {},
    "colab_type": "code",
    "id": "SazfPCbbGLNN",
    "outputId": "b4dd563e-a17d-4ecc-ac2d-50a9721a8c1a"
   },
   "outputs": [
    {
     "name": "stdout",
     "output_type": "stream",
     "text": [
      "/home/ach/stylight/model_data/training/Coats_Jackets\n",
      "/home/ach/stylight/model_data/training/Blazers_Suits\n",
      "/home/ach/stylight/model_data/training/Pants\n",
      "/home/ach/stylight/model_data/training/Tops\n",
      "/home/ach/stylight/model_data/training/Skirts\n",
      "/home/ach/stylight/model_data/training/Underware\n",
      "/home/ach/stylight/model_data/training/Shoes\n",
      "/home/ach/stylight/model_data/training/Dresses_Overalls\n",
      "/home/ach/stylight/model_data/training/Accessories\n",
      "\n",
      "\n",
      "/home/ach/stylight/model_data/validation/Coats_Jackets\n",
      "/home/ach/stylight/model_data/validation/Blazers_Suits\n",
      "/home/ach/stylight/model_data/validation/Pants\n",
      "/home/ach/stylight/model_data/validation/Tops\n",
      "/home/ach/stylight/model_data/validation/Skirts\n",
      "/home/ach/stylight/model_data/validation/Underware\n",
      "/home/ach/stylight/model_data/validation/Shoes\n",
      "/home/ach/stylight/model_data/validation/Dresses_Overalls\n",
      "/home/ach/stylight/model_data/validation/Accessories\n",
      "\n",
      "\n",
      "/home/ach/stylight/model_data/testing/Coats_Jackets\n",
      "/home/ach/stylight/model_data/testing/Blazers_Suits\n",
      "/home/ach/stylight/model_data/testing/Pants\n",
      "/home/ach/stylight/model_data/testing/Tops\n",
      "/home/ach/stylight/model_data/testing/Skirts\n",
      "/home/ach/stylight/model_data/testing/Underware\n",
      "/home/ach/stylight/model_data/testing/Shoes\n",
      "/home/ach/stylight/model_data/testing/Dresses_Overalls\n",
      "/home/ach/stylight/model_data/testing/Accessories\n"
     ]
    }
   ],
   "source": [
    "training_subfolders=[f'{training_dir}/{folder}' for folder in os.listdir(training_dir)]\n",
    "[print(subfolder) for subfolder in training_subfolders]\n",
    "validation_subfolders=[f'{validation_dir}/{folder}' for folder in os.listdir(validation_dir)]\n",
    "print('\\n')\n",
    "[print(subfolder) for subfolder in validation_subfolders]\n",
    "testing_subfolders=[f'{testing_dir}/{folder}' for folder in os.listdir(testing_dir)]\n",
    "print('\\n')\n",
    "[print(subfolder) for subfolder in testing_subfolders];"
   ]
  },
  {
   "cell_type": "code",
   "execution_count": null,
   "metadata": {
    "colab": {},
    "colab_type": "code",
    "id": "BsIGLTMLGLNQ",
    "outputId": "d10b35e4-3ab7-4adc-9605-a0fd473c0410"
   },
   "outputs": [
    {
     "name": "stdout",
     "output_type": "stream",
     "text": [
      "Coats_Jackets\n",
      "1406\n",
      "/home/ach/stylight/data/data_1/Coats_Jackets - training: 550\n",
      "validation:  110\n",
      "testing:  745\n",
      "Blazers_Suits\n",
      "945\n",
      "/home/ach/stylight/data/data_1/Blazers_Suits - training: 550\n",
      "validation:  110\n",
      "testing:  284\n",
      "Pants\n",
      "685\n",
      "/home/ach/stylight/data/data_1/Pants - training: 550\n",
      "validation:  110\n",
      "testing:  24\n",
      "Tops\n",
      "1826\n",
      "/home/ach/stylight/data/data_1/Tops - training: 550\n",
      "validation:  110\n",
      "testing:  1165\n",
      "Skirts\n",
      "353\n",
      "Underware\n",
      "1013\n",
      "/home/ach/stylight/data/data_1/Underware - training: 550\n",
      "validation:  110\n",
      "testing:  352\n",
      "Shoes\n",
      "1432\n",
      "/home/ach/stylight/data/data_1/Shoes - training: 550\n",
      "validation:  110\n",
      "testing:  771\n",
      "Dresses_Overalls\n",
      "713\n",
      "/home/ach/stylight/data/data_1/Dresses_Overalls - training: 550\n",
      "validation:  110\n",
      "testing:  52\n",
      "Accessories\n",
      "4332\n",
      "/home/ach/stylight/data/data_1/Accessories - training: 550\n",
      "validation:  110\n",
      "testing:  3671\n"
     ]
    }
   ],
   "source": [
    "import shutil\n",
    "\n",
    "for ori_subf,cat in zip(origin_subfolders, categories):\n",
    "    print(cat)\n",
    "    nr_imgs=len(os.listdir(ori_subf))\n",
    "    print(nr_imgs)\n",
    "    imgs=os.listdir(ori_subf)\n",
    "    #print(imgs[:2])\n",
    "    shuffled_set = random.sample(imgs,nr_imgs)\n",
    "    \n",
    "    skirt='/home/ach/stylight/data/data_1/Skirts'\n",
    "    if ori_subf != skirt:\n",
    "        training_length=550\n",
    "        training_set=shuffled_set[0:training_length]\n",
    "        print(ori_subf,'- training:', len(training_set))\n",
    "        for file in training_set:\n",
    "            #shutil.copy2('/src/file.ext', '/dst/dir')\n",
    "            shutil.copy2(f'{ori_subf}/{file}',f'/home/ach/stylight/model_data/training/{cat}')\n",
    "            #print(f'{ori_subf}/{file}')\n",
    "\n",
    "        validation_set = shuffled_set[551:661]\n",
    "        print('validation: ',len(validation_set))\n",
    "        for file in validation_set:\n",
    "            shutil.copy2(f'{ori_subf}/{file}',f'/home/ach/stylight/model_data/validation/{cat}')\n",
    "        \n",
    "        testing_set=shuffled_set[661:]\n",
    "        print('testing: ',len(testing_set))\n",
    "        for file in testing_set:\n",
    "            shutil.copy2(f'{ori_subf}/{file}',f'/home/ach/stylight/model_data/testing/{cat}')"
   ]
  },
  {
   "cell_type": "markdown",
   "metadata": {
    "colab_type": "text",
    "id": "KNDly7o3GLNS"
   },
   "source": [
    "Skirts has only 353 elements, take only 310 for traiing 45 for validation and 8 for testing"
   ]
  },
  {
   "cell_type": "code",
   "execution_count": null,
   "metadata": {
    "colab": {},
    "colab_type": "code",
    "id": "Gn50kQkwGLNS"
   },
   "outputs": [],
   "source": [
    "orig_path='/home/ach/stylight/data/data_1/Skirts'\n",
    "orig_files=os.listdir(orig_path)\n",
    "training=orig_files[:-53]\n",
    "for file in training:\n",
    "    shutil.copy2(f'/home/ach/stylight/data/data_1/Skirts/{file}','/home/ach/stylight/model_data/training/Skirts')\n",
    "validation=orig_files[-53:-8]\n",
    "for file in validation:\n",
    "    shutil.copy2(f'/home/ach/stylight/data/data_1/Skirts/{file}','/home/ach/stylight/model_data/validation/Skirts')\n",
    "\n",
    "testing=orig_files[-8:]\n",
    "for file in testing:\n",
    "    shutil.copy2(f'/home/ach/stylight/data/data_1/Skirts/{file}','/home/ach/stylight/model_data/testing/Skirts')   "
   ]
  }
 ],
 "metadata": {
  "colab": {
   "name": "split_organize_training_validation_testing_data_folders.ipynb",
   "provenance": []
  },
  "kernelspec": {
   "display_name": "Python 3",
   "language": "python",
   "name": "python3"
  },
  "language_info": {
   "codemirror_mode": {
    "name": "ipython",
    "version": 3
   },
   "file_extension": ".py",
   "mimetype": "text/x-python",
   "name": "python",
   "nbconvert_exporter": "python",
   "pygments_lexer": "ipython3",
   "version": "3.8.5"
  }
 },
 "nbformat": 4,
 "nbformat_minor": 4
}

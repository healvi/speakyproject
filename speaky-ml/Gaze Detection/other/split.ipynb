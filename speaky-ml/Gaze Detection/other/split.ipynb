{
 "cells": [
  {
   "cell_type": "code",
   "execution_count": 6,
   "id": "6dce0149-9913-4c6d-ae5d-ce83b128397a",
   "metadata": {},
   "outputs": [],
   "source": [
    "import shutil\n",
    "import os\n",
    "import numpy as np\n",
    "source1 = r'C:\\Users\\Hp\\FP\\Gaze Detection\\Dataset Gaze'\n",
    "dest1 = r'C:\\Users\\Hp\\FP\\Gaze Detection\\Train'\n",
    "dest2 = r'C:\\Users\\Hp\\FP\\Gaze Detection\\Test'\n",
    "files1 = os.listdir(source1)\n",
    "if not os.path.exists(dest1):\n",
    "    os.mkdir(dest1)\n",
    "if not os.path.exists(dest2):\n",
    "    os.mkdir(dest2)"
   ]
  },
  {
   "cell_type": "code",
   "execution_count": null,
   "id": "95531bbe-ab5d-48a6-9c3f-9b8688b144ee",
   "metadata": {},
   "outputs": [],
   "source": [
    "train_percent = 0.8\n",
    "for sub in files1:\n",
    "    inp = source1+'/'+sub+'/'\n",
    "    out1 = \"train/\"+sub+'/'\n",
    "    out2 = \"test/\"+sub+'/'\n",
    "    if not os.path.exists(out1):\n",
    "        os.mkdir(out1)\n",
    "    if not os.path.exists(out2):\n",
    "        os.mkdir(out2)\n",
    "    class_files = list(os.listdir(inp))\n",
    "    np.random.shuffle(class_files)\n",
    "    n_files = len(class_files)\n",
    "    n_load = n_files\n",
    "    n_train = int(n_load* train_percent)\n",
    "    cnt = 1\n",
    "    for f in class_files:\n",
    "        if(f.endswith('.ini')):\n",
    "            continue\n",
    "        if cnt <= n_train:\n",
    "            shutil.copy(inp+f, out1+f)\n",
    "        else:\n",
    "            shutil.copy(inp+f, out2+f)\n",
    "        cnt = cnt+1"
   ]
  },
  {
   "cell_type": "code",
   "execution_count": null,
   "id": "7263fdff-3cad-4462-a11f-ed2fdab3053a",
   "metadata": {},
   "outputs": [],
   "source": []
  }
 ],
 "metadata": {
  "kernelspec": {
   "display_name": "Python 3",
   "language": "python",
   "name": "python3"
  },
  "language_info": {
   "codemirror_mode": {
    "name": "ipython",
    "version": 3
   },
   "file_extension": ".py",
   "mimetype": "text/x-python",
   "name": "python",
   "nbconvert_exporter": "python",
   "pygments_lexer": "ipython3",
   "version": "3.8.5"
  }
 },
 "nbformat": 4,
 "nbformat_minor": 5
}

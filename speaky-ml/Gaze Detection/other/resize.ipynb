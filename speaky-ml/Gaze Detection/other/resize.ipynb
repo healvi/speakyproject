{
 "cells": [
  {
   "cell_type": "code",
   "execution_count": 3,
   "id": "62b84d90-f7c5-4b58-a9c0-d3d593a5afae",
   "metadata": {},
   "outputs": [],
   "source": [
    "import cv2\n",
    "import os,glob\n",
    "from os import listdir,makedirs\n",
    "from os.path import isfile,join\n",
    "\n",
    "path = 'Opened' # Source Folder\n",
    "os.mkdir('Opened_r') # Destination Folder\n",
    "target = '.jpg'\n",
    "\n",
    "folder_len = len(path)\n",
    "for img in glob.glob(path+ '/*.png'): \n",
    "    image = cv2.imread(img)\n",
    "    img_resized = cv2.resize(image,(64,64))\n",
    "    cv2.imwrite('Opened_r' + img[folder_len:], img_resized)\n",
    "    cv2.imshow('image', img_resized)\n",
    "    cv2.waitKey(30)\n",
    "cv2.destroyAllWindows()"
   ]
  },
  {
   "cell_type": "code",
   "execution_count": null,
   "id": "3c08e00f-7c53-46cd-a84f-a534647687f5",
   "metadata": {},
   "outputs": [],
   "source": []
  }
 ],
 "metadata": {
  "kernelspec": {
   "display_name": "Python 3",
   "language": "python",
   "name": "python3"
  },
  "language_info": {
   "codemirror_mode": {
    "name": "ipython",
    "version": 3
   },
   "file_extension": ".py",
   "mimetype": "text/x-python",
   "name": "python",
   "nbconvert_exporter": "python",
   "pygments_lexer": "ipython3",
   "version": "3.8.5"
  }
 },
 "nbformat": 4,
 "nbformat_minor": 5
}
